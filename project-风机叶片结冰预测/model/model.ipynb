{
 "cells": [
  {
   "cell_type": "markdown",
   "metadata": {
    "toc": true
   },
   "source": [
    "<h1>Table of Contents<span class=\"tocSkip\"></span></h1>\n",
    "<div class=\"toc\"><ul class=\"toc-item\"></ul></div>"
   ]
  },
  {
   "cell_type": "code",
   "execution_count": 27,
   "metadata": {},
   "outputs": [],
   "source": [
    "import pandas as pd\n",
    "import numpy as np\n",
    "import matplotlib.pyplot as plt\n",
    "import time\n",
    "import math\n",
    "\n",
    "from sklearn.metrics import accuracy_score\n",
    "from sklearn.metrics import recall_score\n",
    "from sklearn.metrics import roc_auc_score\n",
    "from sklearn.metrics import f1_score\n",
    "from sklearn.metrics import precision_score\n",
    "\n",
    "from sklearn.model_selection import train_test_split\n",
    "\n",
    "from sklearn.neighbors import KNeighborsClassifier\n",
    "from sklearn.svm import SVC\n",
    "from sklearn.linear_model import LogisticRegression\n",
    "from sklearn.neural_network import MLPClassifier\n",
    "from sklearn.tree import DecisionTreeClassifier\n",
    "from sklearn.ensemble import RandomForestClassifier, AdaBoostClassifier\n",
    "from sklearn.metrics import confusion_matrix\n",
    "\n",
    "from imblearn.over_sampling import SMOTE\n",
    "from imblearn.under_sampling import RandomUnderSampler\n",
    "from collections import Counter\n",
    "\n",
    "plt.rcParams['font.family']=['Songti SC']\n",
    "plt.rcParams['axes.unicode_minus'] = False\n",
    "pd.set_option('display.float_format', lambda x: '%.3f' % x)\n",
    "pd.options.display.max_rows = 200\n",
    "\n",
    "np.set_printoptions(formatter={'float': '{: 0.3f}'.format})\n",
    "np.set_printoptions(threshold=np.inf)\n",
    "np.set_printoptions(linewidth=100, suppress=True)"
   ]
  },
  {
   "cell_type": "code",
   "execution_count": 28,
   "metadata": {},
   "outputs": [],
   "source": [
    "new15 = pd.read_csv(\"../data/15.csv\",index_col=0).round(2)\n",
    "new21 = pd.read_csv(\"../data/21.csv\",index_col=0).round(2)\n",
    "new15_under = pd.read_csv(\"../data/15_under.csv\",index_col=0).round(2)"
   ]
  },
  {
   "cell_type": "code",
   "execution_count": 29,
   "metadata": {},
   "outputs": [],
   "source": [
    "feature_selected = ['environment_tmp', 'int_tmp','yaw_speed','wind_speed','pitch3_moto_tmp','pitch1_moto_tmp','pitch2_moto_tmp',\n",
    "'power','pitch1_angle','pitch3_angle','pitch2_angle','generator_speed']\n",
    "feature_gen = ['wind_speed.div.power', 'power.div.generator_speed','generator_speed.div.wind', 'mean_pitch_angle', 'tmp_diff']\n",
    "feature_all = new15_under.columns.to_list()"
   ]
  },
  {
   "cell_type": "code",
   "execution_count": 30,
   "metadata": {},
   "outputs": [],
   "source": [
    "feature_use = feature_selected + feature_gen"
   ]
  },
  {
   "cell_type": "code",
   "execution_count": 31,
   "metadata": {},
   "outputs": [],
   "source": [
    "# 选择特征\n",
    "new15f = new15_under[feature_use+['label']]\n",
    "new21f = new21[feature_use+['label']]"
   ]
  },
  {
   "cell_type": "code",
   "execution_count": 32,
   "metadata": {},
   "outputs": [],
   "source": [
    "# 强规则\n",
    "new15fw = new15f[(new15f['power']<=2) & (new15f['environment_tmp']<=2)]\n",
    "new21fw = new21f[(new21f['power']<=2) & (new21f['environment_tmp']<=2)]\n",
    "\n",
    "# 分割\n",
    "svr_new15fw = new15fw[new15fw['power']<=-0.975]\n",
    "slt_new15fw = new15fw[new15fw['power']>-0.975]\n",
    "\n",
    "svr_new21fw = new21fw[new21fw['power']<=-0.975]\n",
    "slt_new21fw = new21fw[new21fw['power']>-0.975]\n",
    "\n",
    "# svr_new15fw = new15fw[new15fw['wind_speed']<=-1]\n",
    "# slt_new15fw = new15fw[new15fw['wind_speed']>-1]\n",
    "\n",
    "# svr_new21fw = new21fw[new21fw['wind_speed']<=-1]\n",
    "# slt_new21fw = new21fw[new21fw['wind_speed']>-1]"
   ]
  },
  {
   "cell_type": "code",
   "execution_count": 33,
   "metadata": {},
   "outputs": [
    {
     "output_type": "execute_result",
     "data": {
      "text/plain": "count   147392.000\nmean         0.057\nstd          0.231\nmin          0.000\n25%          0.000\n50%          0.000\n75%          0.000\nmax          1.000\nName: label, dtype: float64"
     },
     "metadata": {},
     "execution_count": 33
    }
   ],
   "source": [
    "slt_new21fw.label.describe()"
   ]
  },
  {
   "cell_type": "code",
   "execution_count": 34,
   "metadata": {},
   "outputs": [],
   "source": [
    "names = [\"Nearest Neighbors\",\n",
    "\"Logistic Regression\", \n",
    "\"Decision Tree\"\n",
    "]\n",
    "\n",
    "classifiers = [\n",
    "    KNeighborsClassifier(n_jobs=-1,n_neighbors=3,weights=\"distance\"),\n",
    "    LogisticRegression(n_jobs=-1,random_state=7), #solver='sag',max_iter=10000,class_weight='balanced',\n",
    "    DecisionTreeClassifier(random_state=0),\n",
    "]"
   ]
  },
  {
   "cell_type": "code",
   "execution_count": 35,
   "metadata": {},
   "outputs": [],
   "source": [
    "def competition_score(y_test, y_pred):\n",
    "    N_fault = sum(y_test) # 标签为1的个数\n",
    "    N_normal = len(y_test) - N_fault # 标签为0的个数\n",
    "    alpha = float(N_normal/len(y_test)) # 0的所占比例\n",
    "    # alpha = 0.5\n",
    "    beta = 1 - alpha # 1的所占比例\n",
    "    tn, fn, fp, tp = confusion_matrix(y_test, y_pred).ravel()\n",
    "    # fp = 2871\n",
    "    # fn = 8142\n",
    "    cm_score = (1- alpha*fn/N_normal - beta*fp/N_fault )*100.\n",
    "    print(\"len(y_test), N_fault,N_normal,alpha,beta, tn, fp, fn, tp\")\n",
    "    print(len(y_test),N_fault,N_normal,alpha,beta, tn, fp, fn, tp)\n",
    "    print()\n",
    "    return cm_score\n",
    "\n",
    "def cal_scores(names, classifiers,X_train, y_train,X_test,y_test):\n",
    "    scores = pd.DataFrame(columns=['Score','Accuracy','Precision','Recall','AUC','Train time(s)','Test time(s)'], index=names)\n",
    "    for name, clf in zip(names, classifiers):\n",
    "        time1 = time.time()\n",
    "        clf.fit(X_train, y_train)\n",
    "        time2 = time.time()\n",
    "        y_pred = clf.predict(X_test)\n",
    "        time3 = time.time()\n",
    "\n",
    "        scores.at[name,'Score'] = competition_score(y_test, y_pred)\n",
    "        scores.at[name,'Accuracy'] = accuracy_score(y_test, y_pred)\n",
    "        scores.at[name,'Precision'] = precision_score(y_test, y_pred)\n",
    "        scores.at[name,'Recall'] = recall_score(y_test, y_pred)\n",
    "        scores.at[name,'AUC'] = roc_auc_score(y_test, y_pred)\n",
    "        cm = confusion_matrix(y_test, y_pred).ravel()\n",
    "        scores.at[name,'tn'] = int(cm[0])\n",
    "        scores.at[name,'fn'] = int(cm[1])\n",
    "        scores.at[name,'fp'] = int(cm[2])\n",
    "        scores.at[name,'tp'] = int(cm[3])\n",
    "\n",
    "        scores.at[name,'Train time(s)'] = time2 - time1\n",
    "        scores.at[name,'Test time(s)'] = time3 - time2\n",
    "\n",
    "    return scores\n",
    "\n",
    "def exp(X_train,X_test,y_train,y_test,names, classifiers):\n",
    "    return cal_scores(names, classifiers,X_train, y_train,X_test,y_test)"
   ]
  },
  {
   "cell_type": "code",
   "execution_count": 36,
   "metadata": {},
   "outputs": [
    {
     "output_type": "stream",
     "name": "stdout",
     "text": "len(y_test), N_fault,N_normal,alpha,beta, tn, fp, fn, tp\n10441 4364 6077 0.5820323723781247 0.41796762762187534 5811 148 266 4216\n\nlen(y_test), N_fault,N_normal,alpha,beta, tn, fp, fn, tp\n10441 4364 6077 0.5820323723781247 0.41796762762187534 5570 1044 507 3320\n\nlen(y_test), N_fault,N_normal,alpha,beta, tn, fp, fn, tp\n10441 4364 6077 0.5820323723781247 0.41796762762187534 6036 23 41 4341\n\n"
    },
    {
     "output_type": "execute_result",
     "data": {
      "text/plain": "                     Score Accuracy Precision Recall   AUC Train time(s)  \\\nNearest Neighbors   96.035    0.960     0.941  0.966 0.961         0.027   \nLogistic Regression 85.145    0.851     0.868  0.761 0.839         0.358   \nDecision Tree       99.387    0.994     0.991  0.995 0.994         0.167   \n\n                    Test time(s)       tn      fn       fp       tp  \nNearest Neighbors          0.116 5811.000 266.000  148.000 4216.000  \nLogistic Regression        0.001 5570.000 507.000 1044.000 3320.000  \nDecision Tree              0.002 6036.000  41.000   23.000 4341.000  ",
      "text/html": "<div>\n<style scoped>\n    .dataframe tbody tr th:only-of-type {\n        vertical-align: middle;\n    }\n\n    .dataframe tbody tr th {\n        vertical-align: top;\n    }\n\n    .dataframe thead th {\n        text-align: right;\n    }\n</style>\n<table border=\"1\" class=\"dataframe\">\n  <thead>\n    <tr style=\"text-align: right;\">\n      <th></th>\n      <th>Score</th>\n      <th>Accuracy</th>\n      <th>Precision</th>\n      <th>Recall</th>\n      <th>AUC</th>\n      <th>Train time(s)</th>\n      <th>Test time(s)</th>\n      <th>tn</th>\n      <th>fn</th>\n      <th>fp</th>\n      <th>tp</th>\n    </tr>\n  </thead>\n  <tbody>\n    <tr>\n      <th>Nearest Neighbors</th>\n      <td>96.035</td>\n      <td>0.960</td>\n      <td>0.941</td>\n      <td>0.966</td>\n      <td>0.961</td>\n      <td>0.027</td>\n      <td>0.116</td>\n      <td>5811.000</td>\n      <td>266.000</td>\n      <td>148.000</td>\n      <td>4216.000</td>\n    </tr>\n    <tr>\n      <th>Logistic Regression</th>\n      <td>85.145</td>\n      <td>0.851</td>\n      <td>0.868</td>\n      <td>0.761</td>\n      <td>0.839</td>\n      <td>0.358</td>\n      <td>0.001</td>\n      <td>5570.000</td>\n      <td>507.000</td>\n      <td>1044.000</td>\n      <td>3320.000</td>\n    </tr>\n    <tr>\n      <th>Decision Tree</th>\n      <td>99.387</td>\n      <td>0.994</td>\n      <td>0.991</td>\n      <td>0.995</td>\n      <td>0.994</td>\n      <td>0.167</td>\n      <td>0.002</td>\n      <td>6036.000</td>\n      <td>41.000</td>\n      <td>23.000</td>\n      <td>4341.000</td>\n    </tr>\n  </tbody>\n</table>\n</div>"
     },
     "metadata": {},
     "execution_count": 36
    }
   ],
   "source": [
    "# 对筛过特征、强规则、分割后的进行调优\n",
    "X_slt_new15fw,y_slt_new15fw = slt_new15fw.drop(columns=['label']),slt_new15fw['label']\n",
    "X_svr_new15fw,y_svr_new15fw = svr_new15fw.drop(columns=['label']),svr_new15fw['label']\n",
    "\n",
    "X_slt_train,X_slt_test,y_slt_train,y_slt_test = train_test_split(X_slt_new15fw,y_slt_new15fw,test_size=0.3,random_state=7)\n",
    "X_svr_train,X_svr_test,y_svr_train,y_svr_test = train_test_split(X_svr_new15fw,y_svr_new15fw,test_size=0.3,random_state=7)\n",
    "\n",
    "# slt 对15号内部训练并测试\n",
    "score_1515_slt = exp(X_slt_train,X_slt_test,y_slt_train,y_slt_test, names, classifiers)\n",
    "score_1515_slt"
   ]
  },
  {
   "cell_type": "code",
   "execution_count": 37,
   "metadata": {},
   "outputs": [
    {
     "output_type": "stream",
     "name": "stdout",
     "text": "len(y_test), N_fault,N_normal,alpha,beta, tn, fp, fn, tp\n3378 2769 609 0.1802841918294849 0.8197158081705151 601 0 8 2769\n\nlen(y_test), N_fault,N_normal,alpha,beta, tn, fp, fn, tp\n3378 2769 609 0.1802841918294849 0.8197158081705151 518 60 91 2709\n\nlen(y_test), N_fault,N_normal,alpha,beta, tn, fp, fn, tp\n3378 2769 609 0.1802841918294849 0.8197158081705151 605 1 4 2768\n\n"
    },
    {
     "output_type": "execute_result",
     "data": {
      "text/plain": "                     Score Accuracy Precision Recall   AUC Train time(s)  \\\nNearest Neighbors   99.763    0.998     0.997  1.000 0.993         0.012   \nLogistic Regression 95.530    0.955     0.968  0.978 0.914         0.782   \nDecision Tree       99.852    0.999     0.999  1.000 0.997         0.044   \n\n                    Test time(s)      tn     fn     fp       tp  \nNearest Neighbors          0.109 601.000  8.000  0.000 2769.000  \nLogistic Regression        0.001 518.000 91.000 60.000 2709.000  \nDecision Tree              0.001 605.000  4.000  1.000 2768.000  ",
      "text/html": "<div>\n<style scoped>\n    .dataframe tbody tr th:only-of-type {\n        vertical-align: middle;\n    }\n\n    .dataframe tbody tr th {\n        vertical-align: top;\n    }\n\n    .dataframe thead th {\n        text-align: right;\n    }\n</style>\n<table border=\"1\" class=\"dataframe\">\n  <thead>\n    <tr style=\"text-align: right;\">\n      <th></th>\n      <th>Score</th>\n      <th>Accuracy</th>\n      <th>Precision</th>\n      <th>Recall</th>\n      <th>AUC</th>\n      <th>Train time(s)</th>\n      <th>Test time(s)</th>\n      <th>tn</th>\n      <th>fn</th>\n      <th>fp</th>\n      <th>tp</th>\n    </tr>\n  </thead>\n  <tbody>\n    <tr>\n      <th>Nearest Neighbors</th>\n      <td>99.763</td>\n      <td>0.998</td>\n      <td>0.997</td>\n      <td>1.000</td>\n      <td>0.993</td>\n      <td>0.012</td>\n      <td>0.109</td>\n      <td>601.000</td>\n      <td>8.000</td>\n      <td>0.000</td>\n      <td>2769.000</td>\n    </tr>\n    <tr>\n      <th>Logistic Regression</th>\n      <td>95.530</td>\n      <td>0.955</td>\n      <td>0.968</td>\n      <td>0.978</td>\n      <td>0.914</td>\n      <td>0.782</td>\n      <td>0.001</td>\n      <td>518.000</td>\n      <td>91.000</td>\n      <td>60.000</td>\n      <td>2709.000</td>\n    </tr>\n    <tr>\n      <th>Decision Tree</th>\n      <td>99.852</td>\n      <td>0.999</td>\n      <td>0.999</td>\n      <td>1.000</td>\n      <td>0.997</td>\n      <td>0.044</td>\n      <td>0.001</td>\n      <td>605.000</td>\n      <td>4.000</td>\n      <td>1.000</td>\n      <td>2768.000</td>\n    </tr>\n  </tbody>\n</table>\n</div>"
     },
     "metadata": {},
     "execution_count": 37
    }
   ],
   "source": [
    "# svr 对15号内部训练并测试\n",
    "score_1515_svr = exp(X_svr_train,X_svr_test,y_svr_train,y_svr_test, names, classifiers)\n",
    "score_1515_svr"
   ]
  },
  {
   "cell_type": "code",
   "execution_count": 38,
   "metadata": {},
   "outputs": [
    {
     "output_type": "stream",
     "name": "stdout",
     "text": "len(y_test), N_fault,N_normal,alpha,beta, tn, fp, fn, tp\n147392 8370 139022 0.9432126574033869 0.05678734259661311 129270 3734 9752 4636\n\nlen(y_test), N_fault,N_normal,alpha,beta, tn, fp, fn, tp\n147392 8370 139022 0.9432126574033869 0.05678734259661311 129885 2953 9137 5417\n\nlen(y_test), N_fault,N_normal,alpha,beta, tn, fp, fn, tp\n147392 8370 139022 0.9432126574033869 0.05678734259661311 133572 5269 5450 3101\n\n"
    },
    {
     "output_type": "execute_result",
     "data": {
      "text/plain": "                     Score Accuracy Precision Recall   AUC Train time(s)  \\\nNearest Neighbors   90.850    0.909     0.322  0.554 0.742         0.040   \nLogistic Regression 91.797    0.918     0.372  0.647 0.791         0.353   \nDecision Tree       92.728    0.927     0.363  0.370 0.666         0.139   \n\n                    Test time(s)         tn       fn       fp       tp  \nNearest Neighbors          2.184 129270.000 9752.000 3734.000 4636.000  \nLogistic Regression        0.003 129885.000 9137.000 2953.000 5417.000  \nDecision Tree              0.014 133572.000 5450.000 5269.000 3101.000  ",
      "text/html": "<div>\n<style scoped>\n    .dataframe tbody tr th:only-of-type {\n        vertical-align: middle;\n    }\n\n    .dataframe tbody tr th {\n        vertical-align: top;\n    }\n\n    .dataframe thead th {\n        text-align: right;\n    }\n</style>\n<table border=\"1\" class=\"dataframe\">\n  <thead>\n    <tr style=\"text-align: right;\">\n      <th></th>\n      <th>Score</th>\n      <th>Accuracy</th>\n      <th>Precision</th>\n      <th>Recall</th>\n      <th>AUC</th>\n      <th>Train time(s)</th>\n      <th>Test time(s)</th>\n      <th>tn</th>\n      <th>fn</th>\n      <th>fp</th>\n      <th>tp</th>\n    </tr>\n  </thead>\n  <tbody>\n    <tr>\n      <th>Nearest Neighbors</th>\n      <td>90.850</td>\n      <td>0.909</td>\n      <td>0.322</td>\n      <td>0.554</td>\n      <td>0.742</td>\n      <td>0.040</td>\n      <td>2.184</td>\n      <td>129270.000</td>\n      <td>9752.000</td>\n      <td>3734.000</td>\n      <td>4636.000</td>\n    </tr>\n    <tr>\n      <th>Logistic Regression</th>\n      <td>91.797</td>\n      <td>0.918</td>\n      <td>0.372</td>\n      <td>0.647</td>\n      <td>0.791</td>\n      <td>0.353</td>\n      <td>0.003</td>\n      <td>129885.000</td>\n      <td>9137.000</td>\n      <td>2953.000</td>\n      <td>5417.000</td>\n    </tr>\n    <tr>\n      <th>Decision Tree</th>\n      <td>92.728</td>\n      <td>0.927</td>\n      <td>0.363</td>\n      <td>0.370</td>\n      <td>0.666</td>\n      <td>0.139</td>\n      <td>0.014</td>\n      <td>133572.000</td>\n      <td>5450.000</td>\n      <td>5269.000</td>\n      <td>3101.000</td>\n    </tr>\n  </tbody>\n</table>\n</div>"
     },
     "metadata": {},
     "execution_count": 38
    }
   ],
   "source": [
    "# slt 15号训练部分、21号测试\n",
    "X_slt_new21fw,y_slt_new21fw = slt_new21fw.drop(columns=['label']),slt_new21fw['label']\n",
    "score_1521_slt = exp(X_slt_train,X_slt_new21fw,y_slt_train,y_slt_new21fw, names, classifiers)\n",
    "score_1521_slt"
   ]
  },
  {
   "cell_type": "code",
   "execution_count": 39,
   "metadata": {},
   "outputs": [
    {
     "output_type": "stream",
     "name": "stdout",
     "text": "len(y_test), N_fault,N_normal,alpha,beta, tn, fp, fn, tp\n7003 2113 4890 0.6982721690703984 0.30172783092960165 3946 201 944 1912\n\nlen(y_test), N_fault,N_normal,alpha,beta, tn, fp, fn, tp\n7003 2113 4890 0.6982721690703984 0.30172783092960165 4199 237 691 1876\n\nlen(y_test), N_fault,N_normal,alpha,beta, tn, fp, fn, tp\n7003 2113 4890 0.6982721690703984 0.30172783092960165 4173 579 717 1534\n\n"
    },
    {
     "output_type": "execute_result",
     "data": {
      "text/plain": "                     Score Accuracy Precision Recall   AUC Train time(s)  \\\nNearest Neighbors   83.650    0.836     0.669  0.905 0.856         0.026   \nLogistic Regression 86.749    0.867     0.731  0.888 0.873         0.419   \nDecision Tree       81.494    0.815     0.681  0.726 0.790         0.043   \n\n                    Test time(s)       tn      fn      fp       tp  \nNearest Neighbors          0.113 3946.000 944.000 201.000 1912.000  \nLogistic Regression        0.001 4199.000 691.000 237.000 1876.000  \nDecision Tree              0.001 4173.000 717.000 579.000 1534.000  ",
      "text/html": "<div>\n<style scoped>\n    .dataframe tbody tr th:only-of-type {\n        vertical-align: middle;\n    }\n\n    .dataframe tbody tr th {\n        vertical-align: top;\n    }\n\n    .dataframe thead th {\n        text-align: right;\n    }\n</style>\n<table border=\"1\" class=\"dataframe\">\n  <thead>\n    <tr style=\"text-align: right;\">\n      <th></th>\n      <th>Score</th>\n      <th>Accuracy</th>\n      <th>Precision</th>\n      <th>Recall</th>\n      <th>AUC</th>\n      <th>Train time(s)</th>\n      <th>Test time(s)</th>\n      <th>tn</th>\n      <th>fn</th>\n      <th>fp</th>\n      <th>tp</th>\n    </tr>\n  </thead>\n  <tbody>\n    <tr>\n      <th>Nearest Neighbors</th>\n      <td>83.650</td>\n      <td>0.836</td>\n      <td>0.669</td>\n      <td>0.905</td>\n      <td>0.856</td>\n      <td>0.026</td>\n      <td>0.113</td>\n      <td>3946.000</td>\n      <td>944.000</td>\n      <td>201.000</td>\n      <td>1912.000</td>\n    </tr>\n    <tr>\n      <th>Logistic Regression</th>\n      <td>86.749</td>\n      <td>0.867</td>\n      <td>0.731</td>\n      <td>0.888</td>\n      <td>0.873</td>\n      <td>0.419</td>\n      <td>0.001</td>\n      <td>4199.000</td>\n      <td>691.000</td>\n      <td>237.000</td>\n      <td>1876.000</td>\n    </tr>\n    <tr>\n      <th>Decision Tree</th>\n      <td>81.494</td>\n      <td>0.815</td>\n      <td>0.681</td>\n      <td>0.726</td>\n      <td>0.790</td>\n      <td>0.043</td>\n      <td>0.001</td>\n      <td>4173.000</td>\n      <td>717.000</td>\n      <td>579.000</td>\n      <td>1534.000</td>\n    </tr>\n  </tbody>\n</table>\n</div>"
     },
     "metadata": {},
     "execution_count": 39
    }
   ],
   "source": [
    "# svr 15号训练、21号测试\n",
    "X_svr_new21fw, y_svr_new21fw = svr_new21fw.drop(columns=['label']),svr_new21fw['label']\n",
    "score_1521_svr = exp(X_svr_train,X_svr_new21fw,y_svr_train,y_svr_new21fw, names, classifiers)\n",
    "score_1521_svr"
   ]
  },
  {
   "cell_type": "code",
   "execution_count": null,
   "metadata": {},
   "outputs": [],
   "source": []
  }
 ],
 "metadata": {
  "kernelspec": {
   "display_name": "Python 3",
   "language": "python",
   "name": "python3"
  },
  "language_info": {
   "codemirror_mode": {
    "name": "ipython",
    "version": 3
   },
   "file_extension": ".py",
   "mimetype": "text/x-python",
   "name": "python",
   "nbconvert_exporter": "python",
   "pygments_lexer": "ipython3",
   "version": "3.7.5-final"
  },
  "toc": {
   "base_numbering": 1,
   "nav_menu": {},
   "number_sections": true,
   "sideBar": false,
   "skip_h1_title": false,
   "title_cell": "Table of Contents",
   "title_sidebar": "Contents",
   "toc_cell": true,
   "toc_position": {},
   "toc_section_display": true,
   "toc_window_display": false
  }
 },
 "nbformat": 4,
 "nbformat_minor": 2
}