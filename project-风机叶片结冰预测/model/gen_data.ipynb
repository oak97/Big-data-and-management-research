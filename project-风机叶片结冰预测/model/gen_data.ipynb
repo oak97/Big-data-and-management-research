{
 "cells": [
  {
   "cell_type": "markdown",
   "metadata": {
    "toc": true
   },
   "source": [
    "<h1>Table of Contents<span class=\"tocSkip\"></span></h1>\n",
    "<div class=\"toc\"><ul class=\"toc-item\"><li><span><a href=\"#数据一：#15-+-全部特征\" data-toc-modified-id=\"数据一：#15-+-全部特征-1\">数据一：#15 + 全部特征</a></span></li><li><span><a href=\"#数据二：#15-+-全部特征+欠采样\" data-toc-modified-id=\"数据二：#15-+-全部特征+欠采样-2\">数据二：#15 + 全部特征+欠采样</a></span></li><li><span><a href=\"#数据三：#21-+-全部特征\" data-toc-modified-id=\"数据三：#21-+-全部特征-3\">数据三：#21 + 全部特征</a></span></li><li><span><a href=\"#特征说明\" data-toc-modified-id=\"特征说明-4\">特征说明</a></span><ul class=\"toc-item\"><li><span><a href=\"#1-选出的原始变量\" data-toc-modified-id=\"1-选出的原始变量-4.1\">1 选出的原始变量</a></span></li><li><span><a href=\"#2-生成的变量\" data-toc-modified-id=\"2-生成的变量-4.2\">2 生成的变量</a></span></li><li><span><a href=\"#3-建议使用的特征（12+5个）\" data-toc-modified-id=\"3-建议使用的特征（12+5个）-4.3\">3 建议使用的特征（12+5个）</a></span></li></ul></li></ul></div>"
   ]
  },
  {
   "cell_type": "code",
   "execution_count": 2,
   "metadata": {},
   "outputs": [],
   "source": [
    "import pandas as pd\n",
    "import numpy as np"
   ]
  },
  {
   "cell_type": "markdown",
   "metadata": {},
   "source": [
    "# 数据一：#15 + 全部特征"
   ]
  },
  {
   "cell_type": "code",
   "execution_count": 6,
   "metadata": {},
   "outputs": [],
   "source": [
    "# 写文件，保留index，只保留三位小数\n",
    "new15 = pd.read_csv(\"../data/15-new.csv\",index_col=0)\n",
    "new15.rename(columns={'wind_speed/power':'wind_speed.div.power', 'power/generator_speed':'power.div.generator_speed','generator_speed/wind':'generator_speed.div.wind'},inplace=True)\n",
    "new15.to_csv('../result/15.csv',float_format = '%.3f')"
   ]
  },
  {
   "cell_type": "markdown",
   "metadata": {},
   "source": [
    "# 数据二：#15 + 全部特征+欠采样"
   ]
  },
  {
   "cell_type": "code",
   "execution_count": 7,
   "metadata": {},
   "outputs": [],
   "source": [
    "from imblearn.under_sampling import RandomUnderSampler\n",
    "\n",
    "rus = RandomUnderSampler(random_state=0)\n",
    "X_under, y_under = rus.fit_sample(new15.drop(columns=['label']), new15['label'])\n",
    "new_15_under = pd.concat([X_under,y_under.to_frame()],axis=1)"
   ]
  },
  {
   "cell_type": "code",
   "execution_count": 10,
   "metadata": {},
   "outputs": [
    {
     "data": {
      "text/plain": [
       "(47334, 32)"
      ]
     },
     "execution_count": 10,
     "metadata": {},
     "output_type": "execute_result"
    }
   ],
   "source": [
    "new_15_under.shape"
   ]
  },
  {
   "cell_type": "code",
   "execution_count": 11,
   "metadata": {},
   "outputs": [],
   "source": [
    "new_15_under.to_csv('../result/15_under.csv',float_format = '%.3f')"
   ]
  },
  {
   "cell_type": "markdown",
   "metadata": {},
   "source": [
    "# 数据三：#21 + 全部特征"
   ]
  },
  {
   "cell_type": "code",
   "execution_count": 12,
   "metadata": {},
   "outputs": [],
   "source": [
    "new21 = pd.read_csv(\"../data/21-new.csv\",index_col=0).round(2)\n",
    "new21.drop(columns=['Unnamed: 0.1'],inplace=True)\n",
    "new21.rename(columns={\"Label\": \"label\",'wind_speed/power':'wind_speed.div.power', 'power/generator_speed':'power.div.generator_speed','generator_speed/wind':'generator_speed.div.wind'},inplace=True)\n",
    "new21.to_csv('../result/21.csv',float_format = '%.3f')"
   ]
  },
  {
   "cell_type": "markdown",
   "metadata": {},
   "source": [
    "# 特征说明\n",
    "## 1 选出的原始变量"
   ]
  },
  {
   "cell_type": "code",
   "execution_count": 13,
   "metadata": {},
   "outputs": [],
   "source": [
    "feature_selected = ['environment_tmp', 'int_tmp','yaw_speed','wind_speed','pitch3_moto_tmp','pitch1_moto_tmp','pitch2_moto_tmp',\n",
    "'power','pitch1_angle','pitch3_angle','pitch2_angle','generator_speed']"
   ]
  },
  {
   "cell_type": "markdown",
   "metadata": {},
   "source": [
    "## 2 生成的变量"
   ]
  },
  {
   "cell_type": "code",
   "execution_count": 14,
   "metadata": {},
   "outputs": [],
   "source": [
    "feature_gen = ['wind_speed.div.power', 'power.div.generator_speed','generator_speed.div.wind', 'mean_pitch_angle', 'tmp_diff']"
   ]
  },
  {
   "cell_type": "markdown",
   "metadata": {},
   "source": [
    "## 3 建议使用的特征（12+5个）\n",
    "数据集里全部特征有32个"
   ]
  },
  {
   "cell_type": "code",
   "execution_count": 15,
   "metadata": {},
   "outputs": [],
   "source": [
    "feature_use = feature_selected + feature_gen"
   ]
  }
 ],
 "metadata": {
  "kernelspec": {
   "display_name": "Python 3",
   "language": "python",
   "name": "python3"
  },
  "language_info": {
   "codemirror_mode": {
    "name": "ipython",
    "version": 3
   },
   "file_extension": ".py",
   "mimetype": "text/x-python",
   "name": "python",
   "nbconvert_exporter": "python",
   "pygments_lexer": "ipython3",
   "version": "3.7.5"
  },
  "toc": {
   "base_numbering": 1,
   "nav_menu": {},
   "number_sections": false,
   "sideBar": true,
   "skip_h1_title": false,
   "title_cell": "Table of Contents",
   "title_sidebar": "Contents",
   "toc_cell": true,
   "toc_position": {
    "height": "calc(100% - 180px)",
    "left": "10px",
    "top": "150px",
    "width": "165px"
   },
   "toc_section_display": true,
   "toc_window_display": true
  }
 },
 "nbformat": 4,
 "nbformat_minor": 2
}
