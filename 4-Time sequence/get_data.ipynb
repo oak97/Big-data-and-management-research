{
 "cells": [
  {
   "cell_type": "markdown",
   "metadata": {
    "toc": true
   },
   "source": [
    "<h1>Table of Contents<span class=\"tocSkip\"></span></h1>\n",
    "<div class=\"toc\"><ul class=\"toc-item\"></ul></div>"
   ]
  },
  {
   "cell_type": "markdown",
   "metadata": {},
   "source": [
    "这个文件完成从原始数据到 每行日期,累积确诊人数,累积死亡人数,累积治愈人数,新增确诊人数 的格式"
   ]
  },
  {
   "cell_type": "code",
   "execution_count": 1,
   "metadata": {},
   "outputs": [],
   "source": [
    "import pandas as pd\n",
    "import numpy as np\n",
    "from datetime import datetime"
   ]
  },
  {
   "cell_type": "markdown",
   "metadata": {},
   "source": [
    "数据来源：\n",
    "https://github.com/CSSEGISandData/COVID-19/tree/master/csse_covid_19_data/csse_covid_19_time_series\n",
    "\n",
    "约翰·霍普金斯大学系统科学与工程中心（JHU CSSE）运营的2019年新型冠状病毒可视化仪表盘项目的数据库"
   ]
  },
  {
   "cell_type": "code",
   "execution_count": 2,
   "metadata": {},
   "outputs": [],
   "source": [
    "# 读入数据\n",
    "df_confirmed = pd.read_csv(\"./COVID-19-csse_covid_19_data-csse_covid_19_time_series/time_series_covid19_confirmed_global.csv\")\n",
    "df_deaths = pd.read_csv(\"./COVID-19-csse_covid_19_data-csse_covid_19_time_series/time_series_covid19_deaths_global.csv\")\n",
    "df_recovered = pd.read_csv(\"./COVID-19-csse_covid_19_data-csse_covid_19_time_series/time_series_covid19_recovered_global.csv\")"
   ]
  },
  {
   "cell_type": "markdown",
   "metadata": {},
   "source": [
    "按照每行date,confirmed,deaths,recovered,new_confirmed的格式，整理原始数据  \n",
    "也和https://coronavirus.1point3acres.com/en\n",
    "已有图上的数据进行了比对，数据一致"
   ]
  },
  {
   "cell_type": "code",
   "execution_count": 3,
   "metadata": {},
   "outputs": [],
   "source": [
    "a = df_confirmed[df_confirmed['Country/Region']=='US'].iloc[:,4:]\n",
    "USA = pd.DataFrame()\n",
    "USA['date'] = a.columns\n",
    "USA['confirmed'] = a.iloc[0].values\n",
    "USA['deaths'] = df_deaths[df_deaths['Country/Region']=='US'].iloc[:,4:].iloc[0].values\n",
    "USA['recovered'] = df_recovered[df_recovered['Country/Region']=='US'].iloc[:,4:].iloc[0].values\n",
    "USA['new_confirmed'] = USA['confirmed'].diff().fillna(0).astype('int')    # 生成新确诊人数特征\n",
    "USA['date'] = USA['date'].apply(lambda x: datetime.strptime(x,'%m/%d/%y'))\n",
    "USA.index = USA['date']"
   ]
  },
  {
   "cell_type": "code",
   "execution_count": 4,
   "metadata": {},
   "outputs": [],
   "source": [
    "# 保存三月份的数据\n",
    "USA['2020-03'].to_csv('USA.csv',index=False)"
   ]
  },
  {
   "cell_type": "code",
   "execution_count": 5,
   "metadata": {},
   "outputs": [],
   "source": [
    "b = df_confirmed[df_confirmed['Country/Region']=='United Kingdom'].iloc[:,4:]\n",
    "UK = pd.DataFrame()\n",
    "UK['date'] = b.columns\n",
    "UK['confirmed'] = b.sum().values\n",
    "UK['deaths'] = df_deaths[df_deaths['Country/Region']=='United Kingdom'].iloc[:,4:].sum().values\n",
    "UK['recovered'] = df_recovered[df_recovered['Country/Region']=='United Kingdom'].iloc[:,4:].sum().values\n",
    "UK['new_confirmed'] = UK['confirmed'].diff().fillna(0).astype('int')\n",
    "UK['date'] = UK['date'].apply(lambda x: datetime.strptime(x,'%m/%d/%y'))\n",
    "UK.index = UK['date']"
   ]
  },
  {
   "cell_type": "code",
   "execution_count": 6,
   "metadata": {},
   "outputs": [],
   "source": [
    "UK['2020-03'].to_csv('UK.csv',index=False)"
   ]
  }
 ],
 "metadata": {
  "file_extension": ".py",
  "kernelspec": {
   "display_name": "Python 3",
   "language": "python",
   "name": "python3"
  },
  "language_info": {
   "codemirror_mode": {
    "name": "ipython",
    "version": 3
   },
   "file_extension": ".py",
   "mimetype": "text/x-python",
   "name": "python",
   "nbconvert_exporter": "python",
   "pygments_lexer": "ipython3",
   "version": "3.7.5"
  },
  "mimetype": "text/x-python",
  "name": "python",
  "npconvert_exporter": "python",
  "pygments_lexer": "ipython3",
  "toc": {
   "base_numbering": 1,
   "nav_menu": {},
   "number_sections": true,
   "sideBar": false,
   "skip_h1_title": false,
   "title_cell": "Table of Contents",
   "title_sidebar": "Contents",
   "toc_cell": true,
   "toc_position": {},
   "toc_section_display": true,
   "toc_window_display": false
  },
  "version": 3
 },
 "nbformat": 4,
 "nbformat_minor": 2
}
