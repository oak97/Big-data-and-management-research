{
 "cells": [
  {
   "cell_type": "markdown",
   "metadata": {
    "toc": true
   },
   "source": [
    "<h1>Table of Contents<span class=\"tocSkip\"></span></h1>\n",
    "<div class=\"toc\"><ul class=\"toc-item\"></ul></div>"
   ]
  },
  {
   "cell_type": "markdown",
   "metadata": {},
   "source": [
    "Heavenly巧克力公司想通过这些样本资料：  \n",
    "1. 了解网上消费者是否浏览页面越多、花费时间越多，购买金额也越多。  \n",
    "是的，浏览页面和浏览时间都和购买金额有较强的线性正相关关系，尤其是浏览页面数目。  \n",
    "2. 除此之外，该公司还想了解周几、浏览器是否对销量也存在影响。  \n",
    "存在影响，周一和周五销量最好。  \n",
    "火狐浏览器和其他浏览器的人均消费金额和中位数都高，且火狐浏览器的使用人数也多。而IE使用人数多但人均消费金额低，中位数也低。\n",
    "\n",
    "具体请见下面的代码运行结果和分析。"
   ]
  },
  {
   "cell_type": "code",
   "execution_count": 1,
   "metadata": {},
   "outputs": [],
   "source": [
    "import pandas as pd\n",
    "import xlrd\n",
    "from pandas.plotting import scatter_matrix\n",
    "\n",
    "pd.set_option('precision', 2) #设置精度\n",
    "pd.set_option('display.float_format', lambda x: '%.2f' % x) #为了直观的显示数字，不采用科学计数法"
   ]
  },
  {
   "cell_type": "code",
   "execution_count": 2,
   "metadata": {},
   "outputs": [],
   "source": [
    "# 读入数据\n",
    "df = pd.read_excel(\"./data/HeavenlyChocolates.xlsx\", dtype = {\"Day\":'category', 'Browser':'category', 'Customer':'category','Pages Viewed':'int'})"
   ]
  },
  {
   "cell_type": "code",
   "execution_count": 3,
   "metadata": {},
   "outputs": [
    {
     "name": "stdout",
     "output_type": "stream",
     "text": [
      "<class 'pandas.core.frame.DataFrame'>\n",
      "RangeIndex: 50 entries, 0 to 49\n",
      "Data columns (total 6 columns):\n",
      "Customer       50 non-null category\n",
      "Day            50 non-null category\n",
      "Browser        50 non-null category\n",
      "Time           50 non-null float64\n",
      "PagesViewed    50 non-null int64\n",
      "AmountSpent    50 non-null float64\n",
      "dtypes: category(3), float64(2), int64(1)\n",
      "memory usage: 2.3 KB\n"
     ]
    }
   ],
   "source": [
    "# 字符串形式的分类变量变为数字形式，并区分分类变量和数值变量\n",
    "df.rename(columns = {'Pages Viewed':'PagesViewed', 'Time (min)':'Time', 'Amount Spent ($)':'AmountSpent'}, inplace = True)\n",
    "df.Browser = pd.factorize(df.Browser)[0]\n",
    "df.Browser = df.Browser.astype('category') # {0 for IE, 1 for Other, 2 for Firefox}\n",
    "df.Day = df.Day.map({'Mon':1, 'Tue':2, 'Wed':3, 'Thu':4, 'Fri':5, 'Sat':6, 'Sun':7}).astype('category')\n",
    "df.info()"
   ]
  },
  {
   "cell_type": "code",
   "execution_count": 4,
   "metadata": {},
   "outputs": [
    {
     "data": {
      "text/html": [
       "<div>\n",
       "<style scoped>\n",
       "    .dataframe tbody tr th:only-of-type {\n",
       "        vertical-align: middle;\n",
       "    }\n",
       "\n",
       "    .dataframe tbody tr th {\n",
       "        vertical-align: top;\n",
       "    }\n",
       "\n",
       "    .dataframe thead th {\n",
       "        text-align: right;\n",
       "    }\n",
       "</style>\n",
       "<table border=\"1\" class=\"dataframe\">\n",
       "  <thead>\n",
       "    <tr style=\"text-align: right;\">\n",
       "      <th></th>\n",
       "      <th>Customer</th>\n",
       "      <th>Day</th>\n",
       "      <th>Browser</th>\n",
       "      <th>Time</th>\n",
       "      <th>PagesViewed</th>\n",
       "      <th>AmountSpent</th>\n",
       "    </tr>\n",
       "  </thead>\n",
       "  <tbody>\n",
       "    <tr>\n",
       "      <th>0</th>\n",
       "      <td>1</td>\n",
       "      <td>1</td>\n",
       "      <td>0</td>\n",
       "      <td>12.00</td>\n",
       "      <td>4</td>\n",
       "      <td>54.52</td>\n",
       "    </tr>\n",
       "    <tr>\n",
       "      <th>1</th>\n",
       "      <td>2</td>\n",
       "      <td>3</td>\n",
       "      <td>1</td>\n",
       "      <td>19.50</td>\n",
       "      <td>6</td>\n",
       "      <td>94.90</td>\n",
       "    </tr>\n",
       "    <tr>\n",
       "      <th>2</th>\n",
       "      <td>3</td>\n",
       "      <td>1</td>\n",
       "      <td>0</td>\n",
       "      <td>8.50</td>\n",
       "      <td>4</td>\n",
       "      <td>26.68</td>\n",
       "    </tr>\n",
       "    <tr>\n",
       "      <th>3</th>\n",
       "      <td>4</td>\n",
       "      <td>2</td>\n",
       "      <td>2</td>\n",
       "      <td>11.40</td>\n",
       "      <td>2</td>\n",
       "      <td>44.73</td>\n",
       "    </tr>\n",
       "    <tr>\n",
       "      <th>4</th>\n",
       "      <td>5</td>\n",
       "      <td>3</td>\n",
       "      <td>0</td>\n",
       "      <td>11.30</td>\n",
       "      <td>4</td>\n",
       "      <td>66.27</td>\n",
       "    </tr>\n",
       "  </tbody>\n",
       "</table>\n",
       "</div>"
      ],
      "text/plain": [
       "  Customer Day Browser  Time  PagesViewed  AmountSpent\n",
       "0        1   1       0 12.00            4        54.52\n",
       "1        2   3       1 19.50            6        94.90\n",
       "2        3   1       0  8.50            4        26.68\n",
       "3        4   2       2 11.40            2        44.73\n",
       "4        5   3       0 11.30            4        66.27"
      ]
     },
     "execution_count": 4,
     "metadata": {},
     "output_type": "execute_result"
    }
   ],
   "source": [
    "# 查看部分数据\n",
    "df.head()"
   ]
  },
  {
   "cell_type": "code",
   "execution_count": 5,
   "metadata": {},
   "outputs": [
    {
     "data": {
      "text/html": [
       "<div>\n",
       "<style scoped>\n",
       "    .dataframe tbody tr th:only-of-type {\n",
       "        vertical-align: middle;\n",
       "    }\n",
       "\n",
       "    .dataframe tbody tr th {\n",
       "        vertical-align: top;\n",
       "    }\n",
       "\n",
       "    .dataframe thead th {\n",
       "        text-align: right;\n",
       "    }\n",
       "</style>\n",
       "<table border=\"1\" class=\"dataframe\">\n",
       "  <thead>\n",
       "    <tr style=\"text-align: right;\">\n",
       "      <th></th>\n",
       "      <th>Time</th>\n",
       "      <th>PagesViewed</th>\n",
       "      <th>AmountSpent</th>\n",
       "    </tr>\n",
       "  </thead>\n",
       "  <tbody>\n",
       "    <tr>\n",
       "      <th>count</th>\n",
       "      <td>50.00</td>\n",
       "      <td>50.00</td>\n",
       "      <td>50.00</td>\n",
       "    </tr>\n",
       "    <tr>\n",
       "      <th>mean</th>\n",
       "      <td>12.81</td>\n",
       "      <td>4.82</td>\n",
       "      <td>68.13</td>\n",
       "    </tr>\n",
       "    <tr>\n",
       "      <th>std</th>\n",
       "      <td>6.06</td>\n",
       "      <td>2.04</td>\n",
       "      <td>32.34</td>\n",
       "    </tr>\n",
       "    <tr>\n",
       "      <th>min</th>\n",
       "      <td>4.30</td>\n",
       "      <td>2.00</td>\n",
       "      <td>17.84</td>\n",
       "    </tr>\n",
       "    <tr>\n",
       "      <th>25%</th>\n",
       "      <td>8.65</td>\n",
       "      <td>3.25</td>\n",
       "      <td>45.56</td>\n",
       "    </tr>\n",
       "    <tr>\n",
       "      <th>50%</th>\n",
       "      <td>11.40</td>\n",
       "      <td>4.50</td>\n",
       "      <td>62.15</td>\n",
       "    </tr>\n",
       "    <tr>\n",
       "      <th>75%</th>\n",
       "      <td>14.90</td>\n",
       "      <td>6.00</td>\n",
       "      <td>82.73</td>\n",
       "    </tr>\n",
       "    <tr>\n",
       "      <th>max</th>\n",
       "      <td>32.90</td>\n",
       "      <td>10.00</td>\n",
       "      <td>158.51</td>\n",
       "    </tr>\n",
       "  </tbody>\n",
       "</table>\n",
       "</div>"
      ],
      "text/plain": [
       "       Time  PagesViewed  AmountSpent\n",
       "count 50.00        50.00        50.00\n",
       "mean  12.81         4.82        68.13\n",
       "std    6.06         2.04        32.34\n",
       "min    4.30         2.00        17.84\n",
       "25%    8.65         3.25        45.56\n",
       "50%   11.40         4.50        62.15\n",
       "75%   14.90         6.00        82.73\n",
       "max   32.90        10.00       158.51"
      ]
     },
     "execution_count": 5,
     "metadata": {},
     "output_type": "execute_result"
    }
   ],
   "source": [
    "# 数值变量的统计信息，包括总个数、平均值、标准差、最小值、3个四分位数、最大值\n",
    "df[[\"Time\",\"PagesViewed\",'AmountSpent']].describe()"
   ]
  },
  {
   "cell_type": "code",
   "execution_count": 6,
   "metadata": {},
   "outputs": [
    {
     "data": {
      "text/html": [
       "<div>\n",
       "<style scoped>\n",
       "    .dataframe tbody tr th:only-of-type {\n",
       "        vertical-align: middle;\n",
       "    }\n",
       "\n",
       "    .dataframe tbody tr th {\n",
       "        vertical-align: top;\n",
       "    }\n",
       "\n",
       "    .dataframe thead th {\n",
       "        text-align: right;\n",
       "    }\n",
       "</style>\n",
       "<table border=\"1\" class=\"dataframe\">\n",
       "  <thead>\n",
       "    <tr style=\"text-align: right;\">\n",
       "      <th></th>\n",
       "      <th>Day</th>\n",
       "      <th>Browser</th>\n",
       "    </tr>\n",
       "  </thead>\n",
       "  <tbody>\n",
       "    <tr>\n",
       "      <th>count</th>\n",
       "      <td>50</td>\n",
       "      <td>50</td>\n",
       "    </tr>\n",
       "    <tr>\n",
       "      <th>unique</th>\n",
       "      <td>7</td>\n",
       "      <td>3</td>\n",
       "    </tr>\n",
       "    <tr>\n",
       "      <th>top</th>\n",
       "      <td>5</td>\n",
       "      <td>0</td>\n",
       "    </tr>\n",
       "    <tr>\n",
       "      <th>freq</th>\n",
       "      <td>11</td>\n",
       "      <td>27</td>\n",
       "    </tr>\n",
       "  </tbody>\n",
       "</table>\n",
       "</div>"
      ],
      "text/plain": [
       "        Day  Browser\n",
       "count    50       50\n",
       "unique    7        3\n",
       "top       5        0\n",
       "freq     11       27"
      ]
     },
     "execution_count": 6,
     "metadata": {},
     "output_type": "execute_result"
    }
   ],
   "source": [
    "# 分类变量的统计信息，包括总个数、取值类数、众数、众数对应的出现次数\n",
    "df[[\"Day\",\"Browser\"]].describe()"
   ]
  },
  {
   "cell_type": "markdown",
   "metadata": {},
   "source": [
    "第一 ，对消费者在网站上花费的时间、浏览的页数进行数字和图形分析，并要计算出购买金额的均值。"
   ]
  },
  {
   "cell_type": "code",
   "execution_count": 7,
   "metadata": {},
   "outputs": [
    {
     "data": {
      "text/html": [
       "<div>\n",
       "<style scoped>\n",
       "    .dataframe tbody tr th:only-of-type {\n",
       "        vertical-align: middle;\n",
       "    }\n",
       "\n",
       "    .dataframe tbody tr th {\n",
       "        vertical-align: top;\n",
       "    }\n",
       "\n",
       "    .dataframe thead th {\n",
       "        text-align: right;\n",
       "    }\n",
       "</style>\n",
       "<table border=\"1\" class=\"dataframe\">\n",
       "  <thead>\n",
       "    <tr style=\"text-align: right;\">\n",
       "      <th></th>\n",
       "      <th>Time</th>\n",
       "      <th>PagesViewed</th>\n",
       "    </tr>\n",
       "  </thead>\n",
       "  <tbody>\n",
       "    <tr>\n",
       "      <th>count</th>\n",
       "      <td>50.00</td>\n",
       "      <td>50.00</td>\n",
       "    </tr>\n",
       "    <tr>\n",
       "      <th>mean</th>\n",
       "      <td>12.81</td>\n",
       "      <td>4.82</td>\n",
       "    </tr>\n",
       "    <tr>\n",
       "      <th>std</th>\n",
       "      <td>6.06</td>\n",
       "      <td>2.04</td>\n",
       "    </tr>\n",
       "    <tr>\n",
       "      <th>min</th>\n",
       "      <td>4.30</td>\n",
       "      <td>2.00</td>\n",
       "    </tr>\n",
       "    <tr>\n",
       "      <th>25%</th>\n",
       "      <td>8.65</td>\n",
       "      <td>3.25</td>\n",
       "    </tr>\n",
       "    <tr>\n",
       "      <th>50%</th>\n",
       "      <td>11.40</td>\n",
       "      <td>4.50</td>\n",
       "    </tr>\n",
       "    <tr>\n",
       "      <th>75%</th>\n",
       "      <td>14.90</td>\n",
       "      <td>6.00</td>\n",
       "    </tr>\n",
       "    <tr>\n",
       "      <th>max</th>\n",
       "      <td>32.90</td>\n",
       "      <td>10.00</td>\n",
       "    </tr>\n",
       "  </tbody>\n",
       "</table>\n",
       "</div>"
      ],
      "text/plain": [
       "       Time  PagesViewed\n",
       "count 50.00        50.00\n",
       "mean  12.81         4.82\n",
       "std    6.06         2.04\n",
       "min    4.30         2.00\n",
       "25%    8.65         3.25\n",
       "50%   11.40         4.50\n",
       "75%   14.90         6.00\n",
       "max   32.90        10.00"
      ]
     },
     "execution_count": 7,
     "metadata": {},
     "output_type": "execute_result"
    }
   ],
   "source": [
    "# 查看网站花费时间、浏览页数的统计信息\n",
    "df[[\"Time\",\"PagesViewed\"]].describe()"
   ]
  },
  {
   "cell_type": "code",
   "execution_count": 8,
   "metadata": {},
   "outputs": [
    {
     "data": {
      "text/plain": [
       "count   50.00\n",
       "mean     2.91\n",
       "std      1.23\n",
       "min      0.72\n",
       "25%      1.96\n",
       "50%      2.84\n",
       "75%      3.41\n",
       "max      5.70\n",
       "dtype: float64"
      ]
     },
     "execution_count": 8,
     "metadata": {},
     "output_type": "execute_result"
    }
   ],
   "source": [
    "# 平均每个网页的浏览时间的统计信息\n",
    "(df[\"Time\"]/df[\"PagesViewed\"]).describe()"
   ]
  },
  {
   "cell_type": "code",
   "execution_count": 9,
   "metadata": {},
   "outputs": [
    {
     "data": {
      "text/plain": [
       "68.12819999999999"
      ]
     },
     "execution_count": 9,
     "metadata": {},
     "output_type": "execute_result"
    }
   ],
   "source": [
    "# 购买金额的均值\n",
    "df.AmountSpent.mean()"
   ]
  },
  {
   "cell_type": "code",
   "execution_count": 11,
   "metadata": {},
   "outputs": [
    {
     "data": {
      "text/plain": [
       "array([[<matplotlib.axes._subplots.AxesSubplot object at 0x115f99a90>,\n",
       "        <matplotlib.axes._subplots.AxesSubplot object at 0x113d193d0>],\n",
       "       [<matplotlib.axes._subplots.AxesSubplot object at 0x11600c990>,\n",
       "        <matplotlib.axes._subplots.AxesSubplot object at 0x116042e90>]],\n",
       "      dtype=object)"
      ]
     },
     "execution_count": 11,
     "metadata": {},
     "output_type": "execute_result"
    },
    {
     "data": {
      "image/png": "[encoded data removed]",
      "text/plain": [
       "<Figure size 432x288 with 4 Axes>"
      ]
     },
     "metadata": {
      "needs_background": "light"
     },
     "output_type": "display_data"
    }
   ],
   "source": [
    "# 网站花费时间、浏览页数的散点图和各自的直方图\n",
    "scatter_matrix(df[['Time','PagesViewed']])"
   ]
  },
  {
   "cell_type": "code",
   "execution_count": 12,
   "metadata": {},
   "outputs": [],
   "source": [
    "# 查看按周几分类或者按浏览器分类的交易数目、总金额、均值，并绘制每个类别的箱线图，查看金额的分布\n",
    "def cal_group(F):\n",
    "    df.boxplot(column=['AmountSpent'],by=F,figsize=(6,5))\n",
    "    print('每类的交易频数：')\n",
    "    print(df.groupby(F)['Customer'].count().reset_index().sort_values(by = 'Customer', ascending=False))\n",
    "    print('每类的交易总金额：')\n",
    "    print(df.groupby(F)['AmountSpent'].sum().reset_index().sort_values(by = 'AmountSpent', ascending=False))\n",
    "    print('每类的交易均值：')\n",
    "    print(df.groupby(F)['AmountSpent'].mean().reset_index().sort_values(by = 'AmountSpent', ascending=False))"
   ]
  },
  {
   "cell_type": "markdown",
   "metadata": {},
   "source": [
    "接下来分析分类变量。  \n",
    "\n",
    "第二 ，计算每周中每天交易的频数、总金额以及均值，谈谈你的认识。\n",
    "\n",
    "从下面的箱线图可以看出：\n",
    "- 单笔交易金额最高的是在周一，最低是在周日。但周一的变异性最大，即发生在周一的单笔交易金额彼此差距很大，周日的变异性最小。\n",
    "- 周一和周五单笔交易金额高，变异性也大；其他日子的单笔交易金额不如这两个日子高。\n",
    "\n",
    "除了单笔交易金额，再从总量角度来看：  \n",
    "- 交易数目和交易总金额都是周五和周一分别排第一、第二。结合周一和周五箱线图，我们能知晓，周五的金额更稳定的高，周一差异性太大了。\n",
    "- 交易金额均值是周一排在了周五前，结合箱线图，我们也很容易发现周一的中位数绿线是排在了箱体中较高部分，说明大部分是箱体中金额高的，所以平均值较高。"
   ]
  },
  {
   "cell_type": "code",
   "execution_count": 13,
   "metadata": {},
   "outputs": [
    {
     "name": "stdout",
     "output_type": "stream",
     "text": [
      "每类的交易频数：\n",
      "  Day  Customer\n",
      "0   5        11\n",
      "1   1         9\n",
      "2   6         7\n",
      "5   2         7\n",
      "6   3         6\n",
      "3   7         5\n",
      "4   4         5\n",
      "每类的交易总金额：\n",
      "  Day  AmountSpent\n",
      "0   5       945.43\n",
      "1   1       813.38\n",
      "5   2       414.86\n",
      "2   6       378.74\n",
      "6   3       341.82\n",
      "4   4       294.03\n",
      "3   7       218.15\n",
      "每类的交易均值：\n",
      "  Day  AmountSpent\n",
      "1   1        90.38\n",
      "0   5        85.95\n",
      "5   2        59.27\n",
      "4   4        58.81\n",
      "6   3        56.97\n",
      "2   6        54.11\n",
      "3   7        43.63\n"
     ]
    },
    {
     "data": {
      "image/png": "[encoded data removed]",
      "text/plain": [
       "<Figure size 432x360 with 1 Axes>"
      ]
     },
     "metadata": {
      "needs_background": "light"
     },
     "output_type": "display_data"
    }
   ],
   "source": [
    "# 查看周几对交易的影响，计算每个周几的交易数目、总金额、均值，并绘制每个周几的箱线图，查看金额的分布\n",
    "cal_group('Day')"
   ]
  },
  {
   "cell_type": "markdown",
   "metadata": {},
   "source": [
    "第三，计算每种浏览器的频数、总金额以及均值，谈谈所得到的结论。\n",
    "\n",
    "0表示IE，1表示其他，2表示火狐浏览器。  \n",
    "从下面的箱线图可以看出：\n",
    "- 单笔交易金额最低的是IE浏览器组，变异性也最大，即在IE浏览器进行的单笔交易金额彼此差距很大。\n",
    "- 单笔交易金额最高的是其他浏览器，变异性也最小。\n",
    "- 其他浏览器和火狐浏览器组存在单笔交易金额特别高的异常值，尤其是火狐浏览器组的高异常值很多。但除了异常值，单笔金额的差异性不大，尤其是其他浏览器组差异性最小。  \n",
    "其他浏览器和火狐浏览器的平均值会受到异常值影响。\n",
    "\n",
    "除了单笔交易金额，再从总量角度来看：  \n",
    "- 交易数目和交易总金额都是IE和火狐分别排第一、第二，且与第三有较大差距。\n",
    "- 交易金额均值是火狐浏览器和其他浏览器分别排第一、第二，且第一和第二接近，但都与第三差距较大。\n",
    "- 总之，IE是使用人多，总额也多，但人均少；火狐使用人数较多，总额多，且人均也多；其他浏览器人数少，但人均多。"
   ]
  },
  {
   "cell_type": "code",
   "execution_count": 14,
   "metadata": {},
   "outputs": [
    {
     "name": "stdout",
     "output_type": "stream",
     "text": [
      "每类的交易频数：\n",
      "  Browser  Customer\n",
      "0       0        27\n",
      "2       2        16\n",
      "1       1         7\n",
      "每类的交易总金额：\n",
      "  Browser  AmountSpent\n",
      "0       0      1656.81\n",
      "2       2      1228.21\n",
      "1       1       521.39\n",
      "每类的交易均值：\n",
      "  Browser  AmountSpent\n",
      "2       2        76.76\n",
      "1       1        74.48\n",
      "0       0        61.36\n"
     ]
    },
    {
     "data": {
      "image/png": "[encoded data removed]",
      "text/plain": [
       "<Figure size 432x360 with 1 Axes>"
      ]
     },
     "metadata": {
      "needs_background": "light"
     },
     "output_type": "display_data"
    }
   ],
   "source": [
    "# 查看浏览器对交易的影响，计算每种浏览器的交易数目、总金额、均值，并绘制每组的箱线图，查看金额的分布\n",
    "cal_group('Browser')"
   ]
  },
  {
   "cell_type": "markdown",
   "metadata": {},
   "source": [
    "最后分析数值变量。  \n",
    "\n",
    "第四，绘制浏览时间与消费金额散点图，计算样本相关系数，然后进行适当的讨论。  \n",
    "第五，绘制浏览页数与消费金额散点图，计算样本相关系数，然后进行适当的讨论。  \n",
    "第六，绘制浏览时间与浏览页数散点图，计算样本相关系数，然后进行适当的讨论。\n",
    "\n",
    "本次数据中有三个数值变量：浏览时间、消费金额和浏览页数。  \n",
    "分别绘制散点图和计算相关系数，查看两两之间的线性相关性，尤其是与消费金额的相关性。  \n",
    "\n",
    "通过计算，我们知道了：  \n",
    "1. 浏览页数与消费金额的相关系数是0.72，具有较强的线性正相关。  \n",
    "2. \b浏览时间与消费金额的相关系数是0.58，也具有一定的线性正相关关系，但不及页数。"
   ]
  },
  {
   "cell_type": "code",
   "execution_count": 15,
   "metadata": {},
   "outputs": [
    {
     "data": {
      "text/html": [
       "<div>\n",
       "<style scoped>\n",
       "    .dataframe tbody tr th:only-of-type {\n",
       "        vertical-align: middle;\n",
       "    }\n",
       "\n",
       "    .dataframe tbody tr th {\n",
       "        vertical-align: top;\n",
       "    }\n",
       "\n",
       "    .dataframe thead th {\n",
       "        text-align: right;\n",
       "    }\n",
       "</style>\n",
       "<table border=\"1\" class=\"dataframe\">\n",
       "  <thead>\n",
       "    <tr style=\"text-align: right;\">\n",
       "      <th></th>\n",
       "      <th>Time</th>\n",
       "      <th>PagesViewed</th>\n",
       "      <th>AmountSpent</th>\n",
       "    </tr>\n",
       "  </thead>\n",
       "  <tbody>\n",
       "    <tr>\n",
       "      <th>Time</th>\n",
       "      <td>1.00</td>\n",
       "      <td>0.60</td>\n",
       "      <td>0.58</td>\n",
       "    </tr>\n",
       "    <tr>\n",
       "      <th>PagesViewed</th>\n",
       "      <td>0.60</td>\n",
       "      <td>1.00</td>\n",
       "      <td>0.72</td>\n",
       "    </tr>\n",
       "    <tr>\n",
       "      <th>AmountSpent</th>\n",
       "      <td>0.58</td>\n",
       "      <td>0.72</td>\n",
       "      <td>1.00</td>\n",
       "    </tr>\n",
       "  </tbody>\n",
       "</table>\n",
       "</div>"
      ],
      "text/plain": [
       "             Time  PagesViewed  AmountSpent\n",
       "Time         1.00         0.60         0.58\n",
       "PagesViewed  0.60         1.00         0.72\n",
       "AmountSpent  0.58         0.72         1.00"
      ]
     },
     "execution_count": 15,
     "metadata": {},
     "output_type": "execute_result"
    }
   ],
   "source": [
    "# 计算三个数值变量的相关系数矩阵\n",
    "df.corr()"
   ]
  },
  {
   "cell_type": "code",
   "execution_count": 16,
   "metadata": {},
   "outputs": [
    {
     "data": {
      "text/plain": [
       "AmountSpent   1.00\n",
       "PagesViewed   0.72\n",
       "Time          0.58\n",
       "Name: AmountSpent, dtype: float64"
      ]
     },
     "execution_count": 16,
     "metadata": {},
     "output_type": "execute_result"
    }
   ],
   "source": [
    "# 按照与花费金额的相关系数从高到低排序\n",
    "df.corr()[\"AmountSpent\"].sort_values(ascending=False)"
   ]
  },
  {
   "cell_type": "code",
   "execution_count": 17,
   "metadata": {},
   "outputs": [
    {
     "data": {
      "text/plain": [
       "array([[<matplotlib.axes._subplots.AxesSubplot object at 0x1163081d0>,\n",
       "        <matplotlib.axes._subplots.AxesSubplot object at 0x116301e90>,\n",
       "        <matplotlib.axes._subplots.AxesSubplot object at 0x1162aaf90>],\n",
       "       [<matplotlib.axes._subplots.AxesSubplot object at 0x11640b7d0>,\n",
       "        <matplotlib.axes._subplots.AxesSubplot object at 0x11643cfd0>,\n",
       "        <matplotlib.axes._subplots.AxesSubplot object at 0x11647d810>],\n",
       "       [<matplotlib.axes._subplots.AxesSubplot object at 0x1164b1f90>,\n",
       "        <matplotlib.axes._subplots.AxesSubplot object at 0x1164f3850>,\n",
       "        <matplotlib.axes._subplots.AxesSubplot object at 0x1164fd3d0>]],\n",
       "      dtype=object)"
      ]
     },
     "execution_count": 17,
     "metadata": {},
     "output_type": "execute_result"
    },
    {
     "data": {
      "image/png": "[encoded data removed]",
      "text/plain": [
       "<Figure size 504x396 with 9 Axes>"
      ]
     },
     "metadata": {
      "needs_background": "light"
     },
     "output_type": "display_data"
    }
   ],
   "source": [
    "# 绘制三个数值变量的散点图和各自的直方图\n",
    "scatter_matrix(df ,figsize=(7,5.5))"
   ]
  },
  {
   "cell_type": "code",
   "execution_count": 18,
   "metadata": {},
   "outputs": [],
   "source": [
    "# 输出文件\n",
    "df.to_csv(\"./result/HeavenlyChocolates.csv\",float_format = '%.2f',index=False)"
   ]
  }
 ],
 "metadata": {
  "file_extension": ".py",
  "kernelspec": {
   "display_name": "Python 3",
   "language": "python",
   "name": "python3"
  },
  "language_info": {
   "codemirror_mode": {
    "name": "ipython",
    "version": 3
   },
   "file_extension": ".py",
   "mimetype": "text/x-python",
   "name": "python",
   "nbconvert_exporter": "python",
   "pygments_lexer": "ipython3",
   "version": "3.7.5"
  },
  "mimetype": "text/x-python",
  "name": "python",
  "npconvert_exporter": "python",
  "pygments_lexer": "ipython3",
  "toc": {
   "base_numbering": 1,
   "nav_menu": {},
   "number_sections": true,
   "sideBar": false,
   "skip_h1_title": false,
   "title_cell": "Table of Contents",
   "title_sidebar": "Contents",
   "toc_cell": true,
   "toc_position": {},
   "toc_section_display": true,
   "toc_window_display": false
  },
  "version": 3
 },
 "nbformat": 4,
 "nbformat_minor": 2
}
