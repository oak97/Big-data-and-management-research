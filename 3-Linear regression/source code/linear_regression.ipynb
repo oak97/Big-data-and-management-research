{
 "cells": [
  {
   "cell_type": "markdown",
   "metadata": {
    "toc": true
   },
   "source": [
    "<h1>Table of Contents<span class=\"tocSkip\"></span></h1>\n",
    "<div class=\"toc\"><ul class=\"toc-item\"><li><span><a href=\"#作业要求\" data-toc-modified-id=\"作业要求-1\">作业要求</a></span></li><li><span><a href=\"#一-变量选择\" data-toc-modified-id=\"一-变量选择-2\">一 变量选择</a></span><ul class=\"toc-item\"><li><span><a href=\"#1-划分训练集和测试集\" data-toc-modified-id=\"1-划分训练集和测试集-2.1\">1 划分训练集和测试集</a></span></li><li><span><a href=\"#2-用训练集数据进行变量选择\" data-toc-modified-id=\"2-用训练集数据进行变量选择-2.2\">2 用训练集数据进行变量选择</a></span></li></ul></li><li><span><a href=\"#二-模型分割\" data-toc-modified-id=\"二-模型分割-3\">二 模型分割</a></span></li><li><span><a href=\"#三-模型训练、测试和分析\" data-toc-modified-id=\"三-模型训练、测试和分析-4\">三 模型训练、测试和分析</a></span><ul class=\"toc-item\"><li><span><a href=\"#1-模型训练和测试\" data-toc-modified-id=\"1-模型训练和测试-4.1\">1 模型训练和测试</a></span></li><li><span><a href=\"#2-模型分析\" data-toc-modified-id=\"2-模型分析-4.2\">2 模型分析</a></span></li></ul></li></ul></div>"
   ]
  },
  {
   "cell_type": "markdown",
   "metadata": {},
   "source": [
    "### 作业要求\n",
    "利用鲍鱼的数据构建一组线性模型 y=aX+b，预测鲍鱼的年龄（即rings）。  \n",
    "输入变量（自变量X,多维度）是鲍鱼的身体特征和性别，相应变量（Y）。  \n",
    "构建模型的时候可以体现出数据挖掘流程中的变量选择、模型分割、模型训练、测试的理念，汇报模型的训练和测试误差，推荐你认为最佳的模型，并说明理由。\n",
    "\n",
    "\n",
    "本次作业我首先划分训练集和测试集，然后在训练集上使用基于L1惩罚项的特征选择法来进行变量选择，知道应该剔除Length变量。然后根据性别进行模型分割，训练出三个模型，下面是模型及得分。最后对模型进行分析和解释，发现分割后能区分特征在不同组的效果。结合模型得分和解释性，以及残差图，我们认为这是可取的模型。\n",
    "- F组：$Rings = 3.14\\times Diameter + 1.87\\times Height + 9.66\\times WholeWeight -20.82\\times ShuckedWeight -7.3\\times VisceraWeight + 8.83\\times ShellWeight + 7.56$\n",
    "- M组：$Rings = 5.61\\times Diameter + 10.22\\times Height + 8.72\\times WholeWeight -18.91\\times ShuckedWeight -11\\times VisceraWeight + 12.07\\times ShellWeight + 5.19$\n",
    "- I组：$Rings = 5.34\\times Diameter + 23.98\\times Height + 10.73\\times WholeWeight -17.83\\times ShuckedWeight -16.3\\times VisceraWeight + 8.89\\times ShellWeight + 2.69$      \n",
    "\n",
    "模型$R^2$得分：  \n",
    "\n",
    "|      | 测试集 | 训练集 |\n",
    "| :---- | :------ | :------ |\n",
    "| F组  | 0.32   | 0.37   |\n",
    "| M组  | 0.40   | 0.45   |\n",
    "| I组  | 0.59   | 0.58   |"
   ]
  },
  {
   "cell_type": "code",
   "execution_count": 1,
   "metadata": {},
   "outputs": [],
   "source": [
    "import pandas as pd\n",
    "import numpy as np\n",
    "from sklearn.feature_selection import SelectFromModel\n",
    "from sklearn.linear_model import LassoCV\n",
    "from sklearn.model_selection import train_test_split\n",
    "from sklearn.linear_model import LinearRegression\n",
    "import matplotlib.pyplot as plt\n",
    "\n",
    "np.set_printoptions(precision=2)    # 输出精度\n",
    "np.set_printoptions(suppress=True)  # 输出不用科学计数法\n",
    "np.set_printoptions(threshold=np.inf)   # 没有省略号\n",
    "pd.set_option('precision', 2)   # 设置精度\n",
    "pd.set_option('display.float_format', lambda x: '%.2f' % x)    # 输出不用科学计数法"
   ]
  },
  {
   "cell_type": "code",
   "execution_count": 2,
   "metadata": {},
   "outputs": [
    {
     "data": {
      "text/html": [
       "<div>\n",
       "<style scoped>\n",
       "    .dataframe tbody tr th:only-of-type {\n",
       "        vertical-align: middle;\n",
       "    }\n",
       "\n",
       "    .dataframe tbody tr th {\n",
       "        vertical-align: top;\n",
       "    }\n",
       "\n",
       "    .dataframe thead th {\n",
       "        text-align: right;\n",
       "    }\n",
       "</style>\n",
       "<table border=\"1\" class=\"dataframe\">\n",
       "  <thead>\n",
       "    <tr style=\"text-align: right;\">\n",
       "      <th></th>\n",
       "      <th>Sex</th>\n",
       "      <th>Length</th>\n",
       "      <th>Diameter</th>\n",
       "      <th>Height</th>\n",
       "      <th>WholeWeight</th>\n",
       "      <th>ShuckedWeight</th>\n",
       "      <th>VisceraWeight</th>\n",
       "      <th>ShellWeight</th>\n",
       "      <th>Rings</th>\n",
       "    </tr>\n",
       "  </thead>\n",
       "  <tbody>\n",
       "    <tr>\n",
       "      <th>0</th>\n",
       "      <td>M</td>\n",
       "      <td>0.46</td>\n",
       "      <td>0.36</td>\n",
       "      <td>0.10</td>\n",
       "      <td>0.51</td>\n",
       "      <td>0.22</td>\n",
       "      <td>0.10</td>\n",
       "      <td>0.15</td>\n",
       "      <td>15</td>\n",
       "    </tr>\n",
       "    <tr>\n",
       "      <th>1</th>\n",
       "      <td>M</td>\n",
       "      <td>0.35</td>\n",
       "      <td>0.27</td>\n",
       "      <td>0.09</td>\n",
       "      <td>0.23</td>\n",
       "      <td>0.10</td>\n",
       "      <td>0.05</td>\n",
       "      <td>0.07</td>\n",
       "      <td>7</td>\n",
       "    </tr>\n",
       "    <tr>\n",
       "      <th>2</th>\n",
       "      <td>F</td>\n",
       "      <td>0.53</td>\n",
       "      <td>0.42</td>\n",
       "      <td>0.14</td>\n",
       "      <td>0.68</td>\n",
       "      <td>0.26</td>\n",
       "      <td>0.14</td>\n",
       "      <td>0.21</td>\n",
       "      <td>9</td>\n",
       "    </tr>\n",
       "    <tr>\n",
       "      <th>3</th>\n",
       "      <td>M</td>\n",
       "      <td>0.44</td>\n",
       "      <td>0.36</td>\n",
       "      <td>0.12</td>\n",
       "      <td>0.52</td>\n",
       "      <td>0.22</td>\n",
       "      <td>0.11</td>\n",
       "      <td>0.15</td>\n",
       "      <td>10</td>\n",
       "    </tr>\n",
       "    <tr>\n",
       "      <th>4</th>\n",
       "      <td>I</td>\n",
       "      <td>0.33</td>\n",
       "      <td>0.26</td>\n",
       "      <td>0.08</td>\n",
       "      <td>0.20</td>\n",
       "      <td>0.09</td>\n",
       "      <td>0.04</td>\n",
       "      <td>0.06</td>\n",
       "      <td>7</td>\n",
       "    </tr>\n",
       "  </tbody>\n",
       "</table>\n",
       "</div>"
      ],
      "text/plain": [
       "  Sex  Length  Diameter  Height  WholeWeight  ShuckedWeight  VisceraWeight  \\\n",
       "0   M    0.46      0.36    0.10         0.51           0.22           0.10   \n",
       "1   M    0.35      0.27    0.09         0.23           0.10           0.05   \n",
       "2   F    0.53      0.42    0.14         0.68           0.26           0.14   \n",
       "3   M    0.44      0.36    0.12         0.52           0.22           0.11   \n",
       "4   I    0.33      0.26    0.08         0.20           0.09           0.04   \n",
       "\n",
       "   ShellWeight  Rings  \n",
       "0         0.15     15  \n",
       "1         0.07      7  \n",
       "2         0.21      9  \n",
       "3         0.15     10  \n",
       "4         0.06      7  "
      ]
     },
     "execution_count": 2,
     "metadata": {},
     "output_type": "execute_result"
    }
   ],
   "source": [
    "# 读入数据，同时指定Sex是分类变量，Rings是整数数值变量，其他列都是浮点型数值变量\n",
    "df = pd.read_csv(\"./abalone.txt\",header=None, \n",
    "                 names=['Sex', 'Length','Diameter','Height',\n",
    "                        'WholeWeight','ShuckedWeight','VisceraWeight','ShellWeight','Rings'],\n",
    "                 dtype={'Sex':'category','Rings':'int'})\n",
    "# 查看数据的前5行\n",
    "df.head()"
   ]
  },
  {
   "cell_type": "code",
   "execution_count": 3,
   "metadata": {},
   "outputs": [
    {
     "data": {
      "text/html": [
       "<div>\n",
       "<style scoped>\n",
       "    .dataframe tbody tr th:only-of-type {\n",
       "        vertical-align: middle;\n",
       "    }\n",
       "\n",
       "    .dataframe tbody tr th {\n",
       "        vertical-align: top;\n",
       "    }\n",
       "\n",
       "    .dataframe thead th {\n",
       "        text-align: right;\n",
       "    }\n",
       "</style>\n",
       "<table border=\"1\" class=\"dataframe\">\n",
       "  <thead>\n",
       "    <tr style=\"text-align: right;\">\n",
       "      <th></th>\n",
       "      <th>Sex</th>\n",
       "    </tr>\n",
       "  </thead>\n",
       "  <tbody>\n",
       "    <tr>\n",
       "      <th>count</th>\n",
       "      <td>4177</td>\n",
       "    </tr>\n",
       "    <tr>\n",
       "      <th>unique</th>\n",
       "      <td>3</td>\n",
       "    </tr>\n",
       "    <tr>\n",
       "      <th>top</th>\n",
       "      <td>M</td>\n",
       "    </tr>\n",
       "    <tr>\n",
       "      <th>freq</th>\n",
       "      <td>1528</td>\n",
       "    </tr>\n",
       "  </tbody>\n",
       "</table>\n",
       "</div>"
      ],
      "text/plain": [
       "         Sex\n",
       "count   4177\n",
       "unique     3\n",
       "top        M\n",
       "freq    1528"
      ]
     },
     "execution_count": 3,
     "metadata": {},
     "output_type": "execute_result"
    }
   ],
   "source": [
    "# 查看分类型变量的描述性统计信息，包括总个数、取值类数、众数、众数对应的出现次数\n",
    "# 分类变量只有性别一个\n",
    "df.describe(include='category')"
   ]
  },
  {
   "cell_type": "code",
   "execution_count": 4,
   "metadata": {},
   "outputs": [
    {
     "data": {
      "text/html": [
       "<div>\n",
       "<style scoped>\n",
       "    .dataframe tbody tr th:only-of-type {\n",
       "        vertical-align: middle;\n",
       "    }\n",
       "\n",
       "    .dataframe tbody tr th {\n",
       "        vertical-align: top;\n",
       "    }\n",
       "\n",
       "    .dataframe thead th {\n",
       "        text-align: right;\n",
       "    }\n",
       "</style>\n",
       "<table border=\"1\" class=\"dataframe\">\n",
       "  <thead>\n",
       "    <tr style=\"text-align: right;\">\n",
       "      <th></th>\n",
       "      <th>Length</th>\n",
       "      <th>Diameter</th>\n",
       "      <th>Height</th>\n",
       "      <th>WholeWeight</th>\n",
       "      <th>ShuckedWeight</th>\n",
       "      <th>VisceraWeight</th>\n",
       "      <th>ShellWeight</th>\n",
       "      <th>Rings</th>\n",
       "    </tr>\n",
       "  </thead>\n",
       "  <tbody>\n",
       "    <tr>\n",
       "      <th>count</th>\n",
       "      <td>4177.00</td>\n",
       "      <td>4177.00</td>\n",
       "      <td>4177.00</td>\n",
       "      <td>4177.00</td>\n",
       "      <td>4177.00</td>\n",
       "      <td>4177.00</td>\n",
       "      <td>4177.00</td>\n",
       "      <td>4177.00</td>\n",
       "    </tr>\n",
       "    <tr>\n",
       "      <th>mean</th>\n",
       "      <td>0.52</td>\n",
       "      <td>0.41</td>\n",
       "      <td>0.14</td>\n",
       "      <td>0.83</td>\n",
       "      <td>0.36</td>\n",
       "      <td>0.18</td>\n",
       "      <td>0.24</td>\n",
       "      <td>9.93</td>\n",
       "    </tr>\n",
       "    <tr>\n",
       "      <th>std</th>\n",
       "      <td>0.12</td>\n",
       "      <td>0.10</td>\n",
       "      <td>0.04</td>\n",
       "      <td>0.49</td>\n",
       "      <td>0.22</td>\n",
       "      <td>0.11</td>\n",
       "      <td>0.14</td>\n",
       "      <td>3.22</td>\n",
       "    </tr>\n",
       "    <tr>\n",
       "      <th>min</th>\n",
       "      <td>0.07</td>\n",
       "      <td>0.06</td>\n",
       "      <td>0.00</td>\n",
       "      <td>0.00</td>\n",
       "      <td>0.00</td>\n",
       "      <td>0.00</td>\n",
       "      <td>0.00</td>\n",
       "      <td>1.00</td>\n",
       "    </tr>\n",
       "    <tr>\n",
       "      <th>25%</th>\n",
       "      <td>0.45</td>\n",
       "      <td>0.35</td>\n",
       "      <td>0.12</td>\n",
       "      <td>0.44</td>\n",
       "      <td>0.19</td>\n",
       "      <td>0.09</td>\n",
       "      <td>0.13</td>\n",
       "      <td>8.00</td>\n",
       "    </tr>\n",
       "    <tr>\n",
       "      <th>50%</th>\n",
       "      <td>0.55</td>\n",
       "      <td>0.42</td>\n",
       "      <td>0.14</td>\n",
       "      <td>0.80</td>\n",
       "      <td>0.34</td>\n",
       "      <td>0.17</td>\n",
       "      <td>0.23</td>\n",
       "      <td>9.00</td>\n",
       "    </tr>\n",
       "    <tr>\n",
       "      <th>75%</th>\n",
       "      <td>0.61</td>\n",
       "      <td>0.48</td>\n",
       "      <td>0.17</td>\n",
       "      <td>1.15</td>\n",
       "      <td>0.50</td>\n",
       "      <td>0.25</td>\n",
       "      <td>0.33</td>\n",
       "      <td>11.00</td>\n",
       "    </tr>\n",
       "    <tr>\n",
       "      <th>max</th>\n",
       "      <td>0.81</td>\n",
       "      <td>0.65</td>\n",
       "      <td>1.13</td>\n",
       "      <td>2.83</td>\n",
       "      <td>1.49</td>\n",
       "      <td>0.76</td>\n",
       "      <td>1.00</td>\n",
       "      <td>29.00</td>\n",
       "    </tr>\n",
       "  </tbody>\n",
       "</table>\n",
       "</div>"
      ],
      "text/plain": [
       "       Length  Diameter  Height  WholeWeight  ShuckedWeight  VisceraWeight  \\\n",
       "count 4177.00   4177.00 4177.00      4177.00        4177.00        4177.00   \n",
       "mean     0.52      0.41    0.14         0.83           0.36           0.18   \n",
       "std      0.12      0.10    0.04         0.49           0.22           0.11   \n",
       "min      0.07      0.06    0.00         0.00           0.00           0.00   \n",
       "25%      0.45      0.35    0.12         0.44           0.19           0.09   \n",
       "50%      0.55      0.42    0.14         0.80           0.34           0.17   \n",
       "75%      0.61      0.48    0.17         1.15           0.50           0.25   \n",
       "max      0.81      0.65    1.13         2.83           1.49           0.76   \n",
       "\n",
       "       ShellWeight   Rings  \n",
       "count      4177.00 4177.00  \n",
       "mean          0.24    9.93  \n",
       "std           0.14    3.22  \n",
       "min           0.00    1.00  \n",
       "25%           0.13    8.00  \n",
       "50%           0.23    9.00  \n",
       "75%           0.33   11.00  \n",
       "max           1.00   29.00  "
      ]
     },
     "execution_count": 4,
     "metadata": {},
     "output_type": "execute_result"
    }
   ],
   "source": [
    "# 查看数值变量的描述性统计信息，包括总个数、平均值、标准差、最小值、3个四分位数、最大值\n",
    "# 鲍鱼的Rings和身体特征都是数值变量\n",
    "df.describe()"
   ]
  },
  {
   "cell_type": "markdown",
   "metadata": {},
   "source": [
    "### 一 变量选择\n",
    "我们这里使用的是基于L1惩罚项的特征选择法，原理是通过对损失函数(即优化目标)加入L1惩罚项，使得训练求解参数过程中会考虑到特征系数的大小，从而会使得对Rings影响较小的特征的系数衰减到0，达到只保留重要特征的效果。  \n",
    "而且，我们的变量选择只在训练集上进行，即通过训练集数据结果决定使用哪些变量，不蕴含测试集的信息，这与真实环境更相似。  \n",
    "所以下面先进行训练集和测试集的划分，然后用训练集数据来进行基于L1惩罚项的特征选择。\n",
    "\n",
    "- 使用正则项进行变量选择的结果与课上同学演示的结果类似，也把Length变量剔除了。  \n",
    "- 特征选取并不一定提升模型效果：所有特征有效的情况下，去除特征只能带来模型性能的下降；退一步，不重要的特征也并不一定会导致模型性能下降。\n",
    "\n",
    "#### 1 划分训练集和测试集"
   ]
  },
  {
   "cell_type": "code",
   "execution_count": 5,
   "metadata": {},
   "outputs": [],
   "source": [
    "# 划分训练集和测试集，划分X和y（此时X和y都带了’Sex‘列，方便后面按Sex划分组）\n",
    "train_set, test_set = train_test_split(df, train_size=0.7, test_size=0.3, random_state=0)\n",
    "train_X = train_set.drop(['Rings'],axis=1)\n",
    "train_y = train_set[['Rings','Sex']]\n",
    "test_X = test_set.drop(['Rings'],axis=1)\n",
    "test_y = test_set[['Rings','Sex']]"
   ]
  },
  {
   "cell_type": "markdown",
   "metadata": {},
   "source": [
    "#### 2 用训练集数据进行变量选择"
   ]
  },
  {
   "cell_type": "code",
   "execution_count": 6,
   "metadata": {},
   "outputs": [
    {
     "name": "stdout",
     "output_type": "stream",
     "text": [
      "线性分类器各特征 Index(['Length', 'Diameter', 'Height', 'WholeWeight', 'ShuckedWeight',\n",
      "       'VisceraWeight', 'ShellWeight'],\n",
      "      dtype='object')\n",
      "线性分类器各特征的系数： [  0.    11.21   5.99   7.96 -19.09  -6.68  10.65]\n",
      "\n",
      "选出的特征： Index(['Diameter', 'Height', 'WholeWeight', 'ShuckedWeight', 'VisceraWeight',\n",
      "       'ShellWeight'],\n",
      "      dtype='object')\n"
     ]
    }
   ],
   "source": [
    "# 用训练集数据进行变量选择\n",
    "clf = LassoCV(cv=5, random_state=0)    # 初始化L1正则项的线性分类器，设置random_state保证复现结果一致，交叉验证设置为5折\n",
    "sfm = SelectFromModel(estimator=clf)    # 根据线性分类器的系数来进行特征选择，系数的默认阈值是1e-5（剔除系数小于1e-5的特征）\n",
    "sfm.fit(train_X.drop(['Sex'],axis=1), train_y.drop(['Sex'],axis=1))    # 进行拟合\n",
    "print(\"线性分类器各特征\",train_X.drop(['Sex'],axis=1).columns)\n",
    "print(\"线性分类器各特征的系数：\",sfm.estimator_.coef_)    # 查看线性分类器的各特征的系数\n",
    "print(\"\\n选出的特征：\",train_X.drop(['Sex'],axis=1).columns[sfm.get_support()]) "
   ]
  },
  {
   "cell_type": "markdown",
   "metadata": {},
   "source": [
    "### 二 模型分割\n",
    "按照老师上课讲的模型分割，意思是从业务理解上，根据变量的取值不同，将不同取值的样本用来训练不同的模型。\n",
    "- 像我们这次作业的鲍鱼数据，I组的鲍鱼，从常识（业务理解）上来说，年龄与体长关联应该较大，因为婴儿时期随着年龄增长，体长也增长；而F和M组已经成年，年龄和体长关联不大。\n",
    "- 所以，相比将性别作为特征只预测一个模型，我们觉得按照性别分成三组，得到三个模型，应该会在测试集上整体表现更好。\n",
    "\n",
    "注意要点：考虑到模型的实际使用，希望是划分成组，让已有数据和暂未出现但以后可能有的数据都能找到自己对应的组。而不是极限情况下每个取值成为一类，这样新测试数据出现时就无法找到对应模型来预测了。这里的性别是分类变量，就是天然的分组，而且实际使用时的鲍鱼数据不会有新的性别取值了，所以这三个模型就可以保证全覆盖所有已有的或未出现的鲍鱼数据。"
   ]
  },
  {
   "cell_type": "code",
   "execution_count": 7,
   "metadata": {},
   "outputs": [],
   "source": [
    "# 先按照性别对数据进行分割，然后用分割后的数据进行训练和测试\n",
    "def split_model_train_and_test(sex,train_X,train_y,test_X,test_y):\n",
    "    train_X = train_X[train_X.Sex==sex].drop(['Sex','Length'],axis=1)    # 用剔除Length后的X\n",
    "    train_y = train_y[train_y.Sex==sex].drop(['Sex'],axis=1)\n",
    "    test_X = test_X[test_X.Sex==sex].drop(['Sex','Length'],axis=1)    # 用剔除Length后的X\n",
    "    test_y = test_y[test_y.Sex==sex].drop(['Sex'],axis=1)\n",
    "    return train_and_test(train_X,train_y,test_X,test_y)"
   ]
  },
  {
   "cell_type": "markdown",
   "metadata": {},
   "source": [
    "### 三 模型训练、测试和分析\n",
    "这部分我们按照性别进行的模型划分，也除去了Length特征，分别进行模型训练和测试，得到了模型参数和模型在训练集和测试集上的得分，并绘制残差图。  \n",
    "我们还对得到的特征系数进行分析，分析从系数大小、正负，以及不同模型之间系数的差异角度进行。  \n",
    "\n",
    "#### 1 模型训练和测试\n",
    "(1) 最终模型是：\n",
    "- F组：$Rings = 3.14\\times Diameter + 1.87\\times Height + 9.66\\times WholeWeight -20.82\\times ShuckedWeight -7.3\\times VisceraWeight + 8.83\\times ShellWeight + 7.56$\n",
    "- M组：$Rings = 5.61\\times Diameter + 10.22\\times Height + 8.72\\times WholeWeight -18.91\\times ShuckedWeight -11\\times VisceraWeight + 12.07\\times ShellWeight + 5.19$\n",
    "- I组：$Rings = 5.34\\times Diameter + 23.98\\times Height + 10.73\\times WholeWeight -17.83\\times ShuckedWeight -16.3\\times VisceraWeight + 8.89\\times ShellWeight + 2.69$      \n",
    "\n",
    "(2) 模型得分如下：  \n",
    "\n",
    "|      | 测试集 | 训练集 |\n",
    "| :---- | :------ | :------ |\n",
    "| F组  | 0.32   | 0.37   |\n",
    "| M组  | 0.40   | 0.45   |\n",
    "| I组  | 0.59   | 0.58   |\n",
    "\n",
    "(3) 残差图分析：  \n",
    "有点扇形分布，可能不太好"
   ]
  },
  {
   "cell_type": "code",
   "execution_count": 38,
   "metadata": {},
   "outputs": [],
   "source": [
    "# 输入数据，返回模型和测试集得分、训练集得分，并绘制残差图，得分是R方\n",
    "def train_and_test(train_X,train_y,test_X,test_y):\n",
    "    reg = LinearRegression().fit(train_X, train_y)    # 训练模型\n",
    "    train_score = reg.score(train_X, train_y)    # 训练集得分\n",
    "    test_score = reg.score(test_X, test_y)    # 测试集得分\n",
    "    # 绘制残差图，横坐标是预测值、纵坐标是预测值与真实值的差\n",
    "    plt.axhline(y=0, c='k',linestyle='--',alpha=0.4)\n",
    "    plt.scatter(reg.predict(train_X),reg.predict(train_X)-train_y,c='g',marker='.',alpha=0.2,label='train')\n",
    "    plt.scatter(reg.predict(test_X),reg.predict(test_X)-test_y,c='r',marker='.',alpha=0.2,label='test')\n",
    "    plt.title('Residual Plot')\n",
    "    plt.ylabel('Residuals')\n",
    "    plt.xlabel('Predicted values')\n",
    "    plt.legend(loc='best')\n",
    "    return reg, train_score, test_score"
   ]
  },
  {
   "cell_type": "code",
   "execution_count": 39,
   "metadata": {},
   "outputs": [
    {
     "name": "stdout",
     "output_type": "stream",
     "text": [
      "模型系数：[[  3.14   1.87   9.66 -20.82  -7.3    8.83]]，模型截距：[7.56]\n",
      "训练集R方得分：0.3670081792218751，\n",
      "测试集R方得分：0.321863434384967\n"
     ]
    },
    {
     "data": {
      "image/png": "[encoded data removed]",
      "text/plain": [
       "<Figure size 432x288 with 1 Axes>"
      ]
     },
     "metadata": {
      "needs_background": "light"
     },
     "output_type": "display_data"
    }
   ],
   "source": [
    "# F组模型训练、测试，并打印模型系数、截距，以及模型得分\n",
    "regF = split_model_train_and_test('F',train_X,train_y,test_X,test_y)    # 当前组模型训练、测试\n",
    "print(f'模型系数：{regF[0].coef_}，模型截距：{regF[0].intercept_}')\n",
    "print(f'训练集R方得分：{regF[1]}，\\n测试集R方得分：{regF[2]}')    # 输出当前组得分"
   ]
  },
  {
   "cell_type": "code",
   "execution_count": 40,
   "metadata": {},
   "outputs": [
    {
     "name": "stdout",
     "output_type": "stream",
     "text": [
      "模型系数：[[  5.61  10.22   8.72 -18.91 -11.    12.07]]，模型截距：[5.19]\n",
      "训练集R方得分：0.45245761176984156，\n",
      "测试集R方得分：0.39671296608918105\n"
     ]
    },
    {
     "data": {
      "image/png": "[encoded data removed]",
      "text/plain": [
       "<Figure size 432x288 with 1 Axes>"
      ]
     },
     "metadata": {
      "needs_background": "light"
     },
     "output_type": "display_data"
    }
   ],
   "source": [
    "# M组模型训练、测试，并打印模型系数、截距，以及模型得分\n",
    "regM = split_model_train_and_test('M',train_X,train_y,test_X,test_y)    # 当前组模型训练、测试\n",
    "print(f'模型系数：{regM[0].coef_}，模型截距：{regM[0].intercept_}')\n",
    "print(f'训练集R方得分：{regM[1]}，\\n测试集R方得分：{regM[2]}')    # 输出当前组得分"
   ]
  },
  {
   "cell_type": "code",
   "execution_count": 41,
   "metadata": {},
   "outputs": [
    {
     "name": "stdout",
     "output_type": "stream",
     "text": [
      "模型系数：[[  5.34  23.98  10.73 -17.83 -16.3    8.89]]，模型截距：[2.69]\n",
      "训练集R方得分：0.5846091294711961，\n",
      "测试集R方得分：0.5865118756130969\n"
     ]
    },
    {
     "data": {
      "image/png": "[encoded data removed]",
      "text/plain": [
       "<Figure size 432x288 with 1 Axes>"
      ]
     },
     "metadata": {
      "needs_background": "light"
     },
     "output_type": "display_data"
    }
   ],
   "source": [
    "# I组模型训练、测试，并打印模型系数、截距，以及模型得分\n",
    "regI = split_model_train_and_test('I',train_X,train_y,test_X,test_y)    # 当前组模型训练、测试\n",
    "print(f'模型系数：{regI[0].coef_}，模型截距：{regI[0].intercept_}')\n",
    "print(f'训练集R方得分：{regI[1]}，\\n测试集R方得分：{regI[2]}')    # 输出当前组得分"
   ]
  },
  {
   "cell_type": "markdown",
   "metadata": {},
   "source": [
    "#### 2 模型分析\n",
    "线性回归模型的系数天然地可表示出特征对结果的影响，所以我们想通过分析模型的特征系数，来说明我们模型的好坏，而不是只根据R方得分。\n",
    "- 首先，分割后的三个模型在6个特征上正负号一致，说明线性回归方法较为稳定，是合适的方法\n",
    "- 其中，肉重量和内脏重量对年龄都是负影响，即肉重量、内脏重量越大，年龄越小\n",
    "- 而另两个重量相关特征，晒干后重量和全部重量都是正影响，影响程度也差不多\n",
    "\n",
    "模型分割的效果体现在高度和内脏重量这两个特征上，分割后的模型在这两个特征上系数的数值大小差别大。\n",
    "- 对婴儿期的鲍鱼，高度是预测年龄的重要特征；而对F组的鲍鱼，预测年龄时高度非常不重要\n",
    "- 对婴儿期的鲍鱼，肉重量和内脏重量对年龄的影响程度差不多；而F和M组的鲍鱼则不是这样，内脏重量的影响十分小于肉重量的影响，尤其是F组\n",
    "\n",
    "可以看到，我们的模型能够较好地学习到不同组的特征，从而获得更好的预测能力，尤其是区分开了F和I。"
   ]
  },
  {
   "cell_type": "code",
   "execution_count": 12,
   "metadata": {},
   "outputs": [
    {
     "data": {
      "text/plain": [
       "<Figure size 432x288 with 0 Axes>"
      ]
     },
     "metadata": {},
     "output_type": "display_data"
    },
    {
     "data": {
      "image/png": "[encoded data removed]",
      "text/plain": [
       "<Figure size 648x432 with 1 Axes>"
      ]
     },
     "metadata": {
      "needs_background": "light"
     },
     "output_type": "display_data"
    }
   ],
   "source": [
    "# 对三个模型的系数绘制柱状图，并分析\n",
    "ft = ['Diameter', 'Height', 'WholeWeght', 'ShuckedWeight', 'VisceraWeight', 'ShellWeight']\n",
    "anl_df = pd.DataFrame(data={'F':regF[0].coef_[0], 'M':regM[0].coef_[0], 'I':regI[0].coef_[0],'Feature':ft})\n",
    "plt.figure()\n",
    "anl_df.plot.bar(x='Features',rot=0,figsize=(9,6))\n",
    "plt.ylabel('Coefs')\n",
    "plt.title('Coefs of features in different models')\n",
    "plt.legend()\n",
    "plt.grid(True)\n",
    "plt.show()"
   ]
  }
 ],
 "metadata": {
  "file_extension": ".py",
  "kernelspec": {
   "display_name": "Python 3",
   "language": "python",
   "name": "python3"
  },
  "language_info": {
   "codemirror_mode": {
    "name": "ipython",
    "version": 3
   },
   "file_extension": ".py",
   "mimetype": "text/x-python",
   "name": "python",
   "nbconvert_exporter": "python",
   "pygments_lexer": "ipython3",
   "version": "3.7.5"
  },
  "mimetype": "text/x-python",
  "name": "python",
  "npconvert_exporter": "python",
  "pygments_lexer": "ipython3",
  "toc": {
   "base_numbering": 1,
   "nav_menu": {},
   "number_sections": false,
   "sideBar": false,
   "skip_h1_title": false,
   "title_cell": "Table of Contents",
   "title_sidebar": "Contents",
   "toc_cell": true,
   "toc_position": {},
   "toc_section_display": true,
   "toc_window_display": false
  },
  "version": 3
 },
 "nbformat": 4,
 "nbformat_minor": 2
}
